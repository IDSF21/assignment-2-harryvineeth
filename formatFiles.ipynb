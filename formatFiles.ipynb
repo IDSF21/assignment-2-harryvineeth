{
 "cells": [
  {
   "cell_type": "code",
   "execution_count": 1,
   "metadata": {},
   "outputs": [],
   "source": [
    "import numpy as np\n",
    "import pandas as pd"
   ]
  },
  {
   "cell_type": "code",
   "execution_count": 3,
   "metadata": {},
   "outputs": [],
   "source": [
    "engagements = pd.read_csv(\"Pandas_output2.csv\")\n",
    "districts = pd.read_csv(\"districts_info.csv\")\n",
    "products = pd.read_csv(\"products_info.csv\")\n",
    "engagements.dropna(subset=['lp_id'], inplace=True)\n",
    "engagements['lp_id'] = engagements['lp_id'].astype('int')\n",
    "engagements['district_id'] = engagements['filename'].str.split(\".\").str[0].astype('int')\n",
    "engagements = pd.merge(pd.merge(engagements, districts, on=\"district_id\"), products, left_on=\"lp_id\", right_on='LP ID')\n",
    "engagements = engagements[['time', 'pct_access','engagement_index','state',\n",
    "         'locale','URL','Product Name','Provider/Company Name',\n",
    "         'Primary Essential Function']]\n",
    "engagements['time'] = pd.to_datetime(engagements['time'])\n",
    "engagements = engagements.pivot_table(index='time',columns='Product Name',values='engagement_index', aggfunc=np.mean)\n",
    "\n",
    "# Reading State wise Policy data \n",
    "plot_data = pd.read_csv(\"SchoolsClosedDates.csv\", encoding='latin-1')\n",
    "plot_data = plot_data[plot_data['date']!='0']\n",
    "\n",
    "# Reading Google Mobility data\n",
    "mobility = pd.read_csv(\"mobility_cleaned.csv\")\n",
    "mobility.rename(columns={\"retail_and_recreation_percent_change_from_baseline\": \"Retail and Recreation\", \n",
    "                     \"grocery_and_pharmacy_percent_change_from_baseline\": \"Grocery and Pharmacy\",\n",
    "                    \"parks_percent_change_from_baseline\": \"Parks\", \n",
    "                     \"workplaces_percent_change_from_baseline\": \"Workplaces\",\n",
    "                    \"residential_percent_change_from_baseline\": \"Resedential\",\n",
    "                        \"sub_region_1\": \"State\"}, inplace=True)\n",
    "\n",
    "engagements.to_csv('cleaned/cleaned_engagement_data.csv')\n",
    "plot_data.to_csv('cleaned/cleaned_school_policy_data.csv')\n",
    "mobility.to_csv('cleaned/cleaned_mobility_data.csv')\n",
    "#return engagements, plot_data, mobility"
   ]
  },
  {
   "cell_type": "code",
   "execution_count": 4,
   "metadata": {},
   "outputs": [],
   "source": [
    "plot_data = pd.read_csv(\"MobilityRestrictedDates.csv\", encoding='latin-1')\n",
    "plot_data = plot_data[plot_data['MobilityRestrictedDate']!='0']\n",
    "plot_data.to_csv('cleaned/cleaned_mobility_policy_data.csv')"
   ]
  },
  {
   "cell_type": "code",
   "execution_count": null,
   "metadata": {},
   "outputs": [],
   "source": []
  }
 ],
 "metadata": {
  "kernelspec": {
   "display_name": "Python 3 (ipykernel)",
   "language": "python",
   "name": "python3"
  },
  "language_info": {
   "codemirror_mode": {
    "name": "ipython",
    "version": 3
   },
   "file_extension": ".py",
   "mimetype": "text/x-python",
   "name": "python",
   "nbconvert_exporter": "python",
   "pygments_lexer": "ipython3",
   "version": "3.8.10"
  }
 },
 "nbformat": 4,
 "nbformat_minor": 4
}
